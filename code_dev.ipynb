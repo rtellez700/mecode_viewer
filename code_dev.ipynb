{
 "cells": [
  {
   "cell_type": "code",
   "execution_count": 1,
   "metadata": {},
   "outputs": [],
   "source": [
    "from mpl_toolkits import mplot3d\n",
    "# %matplotlib inline\n",
    "%matplotlib widget\n",
    "import numpy as np\n",
    "import matplotlib.pyplot as plt\n",
    "import numpy as np\n",
    "import re"
   ]
  },
  {
   "cell_type": "code",
   "execution_count": 2,
   "metadata": {},
   "outputs": [],
   "source": [
    "# variables\n",
    "REL_MODE = True\n",
    "\n",
    "ACCEL_RATE = 2000\n",
    "DECEL_RATE = 2000\n",
    "\n",
    "P_COM_PORT = 5\n",
    "PRESSURE = 0\n",
    "PRINT_SPEED = 0\n",
    "PRINTING = False\n",
    "\n"
   ]
  },
  {
   "cell_type": "code",
   "execution_count": 3,
   "metadata": {
    "jupyter": {
     "source_hidden": true
    },
    "tags": []
   },
   "outputs": [],
   "source": [
    "def get_accel_decel(line, accel, decel):\n",
    "\n",
    "    re_accel = re.compile('G65 F(\\d+)')\n",
    "    m = re_accel.match(line)\n",
    "\n",
    "    if m is None:\n",
    "        A = accel\n",
    "    else:\n",
    "        A = float(m.groups()[0])\n",
    "\n",
    "    re_decel = re.compile('G66 F(\\d+)')\n",
    "    m = re_accel.match(line)\n",
    "    \n",
    "    if m is None:\n",
    "        D = decel\n",
    "    else:\n",
    "        D = float(m.groups()[0])\n",
    "\n",
    "    return A, D"
   ]
  },
  {
   "cell_type": "code",
   "execution_count": 4,
   "metadata": {
    "jupyter": {
     "source_hidden": true
    },
    "tags": []
   },
   "outputs": [],
   "source": [
    "def get_print_mode(line, rel_mode):\n",
    "    if 'G91' in line:\n",
    "        rel_mode = True\n",
    "    elif 'G90' in line:\n",
    "        rel_mode = False\n",
    "\n",
    "    return rel_mode"
   ]
  },
  {
   "cell_type": "code",
   "execution_count": 5,
   "metadata": {
    "jupyter": {
     "source_hidden": true
    },
    "tags": []
   },
   "outputs": [],
   "source": [
    "def get_pressure_config(line, p, com_port):\n",
    "    \n",
    "    regex = re.compile('Call setPress P(\\d+) Q([0-9]+([.][0-9]*)?|[.][0-9]+)')\n",
    "    m = regex.match(line)\n",
    "    \n",
    "    if m is None:\n",
    "        return p, com_port\n",
    "    else:\n",
    "        return float(m.groups()[1]), int(m.groups()[0])"
   ]
  },
  {
   "cell_type": "code",
   "execution_count": 6,
   "metadata": {
    "jupyter": {
     "source_hidden": true
    },
    "tags": []
   },
   "outputs": [],
   "source": [
    "def are_we_printing(line, prev_value):\n",
    "    regex = re.compile('Call togglePress P(\\d+)')\n",
    "    m = regex.match(line)\n",
    "    if m is None:\n",
    "        return prev_value\n",
    "    else:\n",
    "        return not prev_value \n",
    "    \n"
   ]
  },
  {
   "cell_type": "code",
   "execution_count": 7,
   "metadata": {
    "tags": []
   },
   "outputs": [],
   "source": [
    "def get_print_move(line, prev_move):\n",
    "    # X-COORDINATE\n",
    "    s = re.search('X([+-]?[0-9]+\\.[0-9]+)', line)\n",
    "    X = float(s.groups()[0]) if s is not None else None\n",
    "\n",
    "    # Y-COORDINATE\n",
    "    s = re.search('Y([+-]?[0-9]+\\.[0-9]+)', line)\n",
    "    Y = float(s.groups()[0]) if s is not None else None\n",
    "\n",
    "    # Z-COORDINATE\n",
    "    s = re.search('Z([+-]?[0-9]+\\.[0-9]+)', line)\n",
    "    Z = float(s.groups()[0]) if s is not None else None\n",
    "    \n",
    "    # PRINT_SPEED\n",
    "    s = re.search('F([+-]?[0-9]+\\.[0-9]+)', line)\n",
    "    if s is not None:\n",
    "        PRINT_SPEED = float(s.groups()[0])\n",
    "    else:\n",
    "        PRINT_SPEED = prev_move['PRINT_SPEED']\n",
    "\n",
    "    if (X is None) and (Y is None) and (Z is None):\n",
    "        return None, PRINT_SPEED\n",
    "    else:\n",
    "        return (X,Y,Z), PRINT_SPEED"
   ]
  },
  {
   "cell_type": "code",
   "execution_count": 8,
   "metadata": {},
   "outputs": [
    {
     "data": {
      "text/plain": [
       "True"
      ]
     },
     "execution_count": 8,
     "metadata": {},
     "output_type": "execute_result"
    }
   ],
   "source": [
    "' ; reset extrusion distance'.strip().startswith(';')"
   ]
  },
  {
   "cell_type": "code",
   "execution_count": 9,
   "metadata": {},
   "outputs": [],
   "source": [
    "history = [\n",
    "    {\n",
    "        'REL_MODE': REL_MODE,\n",
    "        'ACCEL' : ACCEL_RATE,\n",
    "        'DECEL' : DECEL_RATE,\n",
    "        'P' : PRESSURE,\n",
    "        'P_COM_PORT': P_COM_PORT,\n",
    "        'PRINTING': False,\n",
    "        'COORDS': (0,0,0.7),\n",
    "        'PRINT_SPEED': 0\n",
    "    }\n",
    "]\n",
    "\n",
    "move_counter = 1\n",
    "\n",
    "# with open('./gcode_examples/single_filament.pgm') as f:\n",
    "with open('./gcode_examples/meander.pgm') as f:\n",
    "# with open('./gcode_examples/dogbone.pgm') as f:\n",
    "    for line in f:\n",
    "        if line.strip().startswith(';') != ';': \n",
    "            # print('counter -- ', move_counter)\n",
    "            # identify if gcode is in relative mode\n",
    "            REL_MODE = get_print_mode(line, REL_MODE)\n",
    "\n",
    "            # set accel and decel rates\n",
    "            ACCEL_RATE, DECEL_RATE = get_accel_decel(line, ACCEL_RATE, DECEL_RATE)\n",
    "\n",
    "            # get pressure config\n",
    "            PRESSURE, P_COM_PORT = get_pressure_config(line, PRESSURE, P_COM_PORT)\n",
    "\n",
    "            # are we printing?\n",
    "            PRINTING = are_we_printing(line, PRINTING)\n",
    "\n",
    "            # GET PRINT SPEED\n",
    "            if 'G1' in line:\n",
    "                COORDS, PRINT_SPEED = get_print_move(line, history[move_counter-1])\n",
    "\n",
    "                if COORDS is not None:\n",
    "                    history.append({\n",
    "                        'REL_MODE': REL_MODE,\n",
    "                        'ACCEL' : ACCEL_RATE,\n",
    "                        'DECEL' : DECEL_RATE,\n",
    "                        'P' : PRESSURE,\n",
    "                        'P_COM_PORT': P_COM_PORT,\n",
    "                        'PRINTING': PRINTING,\n",
    "                        'COORDS': COORDS,\n",
    "                        'PRINT_SPEED' : PRINT_SPEED\n",
    "                    })\n",
    "                    move_counter += 1\n",
    "\n",
    "\n"
   ]
  },
  {
   "cell_type": "code",
   "execution_count": 11,
   "metadata": {},
   "outputs": [
    {
     "data": {
      "application/vnd.jupyter.widget-view+json": {
       "model_id": "cb9c6c29b7aa4fb5975dfb58da87cf54",
       "version_major": 2,
       "version_minor": 0
      },
      "text/plain": [
       "Canvas(toolbar=Toolbar(toolitems=[('Home', 'Reset original view', 'home', 'home'), ('Back', 'Back to previous …"
      ]
     },
     "metadata": {},
     "output_type": "display_data"
    }
   ],
   "source": [
    "fig = plt.figure(dpi=150)\n",
    "ax = plt.axes(projection='3d')\n",
    "\n",
    "x_pos, y_pos, z_pos = history[0]['COORDS']\n",
    "\n",
    "for j, h in enumerate(history[1:]):\n",
    "    x_0, y_0, z_0 = history[j-1]['COORDS']\n",
    "    x_0 = 0 if x_0 is None else x_0\n",
    "    y_0 = 0 if y_0 is None else y_0\n",
    "    z_0 = 0 if z_0 is None else z_0\n",
    "\n",
    "    x_f, y_f, z_f = h['COORDS']\n",
    "    x_f = 0 if x_f is None else x_f\n",
    "    y_f = 0 if y_f is None else y_f\n",
    "    z_f = 0 if z_f is None else z_f\n",
    "    \n",
    "    fmt = {\n",
    "        'ls': '-' if h['PRINTING'] else '--',\n",
    "        'c': 'b' if h['PRINTING'] else 'k',\n",
    "        'lw': .5 if h['PRINTING'] else 0.1\n",
    "    }\n",
    "    if h['REL_MODE']:\n",
    "        x_pts = np.round(np.array([x_0, x_f]) + x_pos, 6)\n",
    "        y_pts = np.round(np.array([y_0, y_f]) + y_pos, 6)\n",
    "        z_pts = np.round(np.array([z_0, z_f]) + z_pos, 6)\n",
    "\n",
    "        x_pos, y_pos, z_pos = x_pos+x_f, y_pos+y_f, z_pos+z_f\n",
    "    else:\n",
    "        x_pts = [x_0, x_f]\n",
    "        y_pts = [y_0, y_f]\n",
    "        z_pts = [z_0, z_f]\n",
    "    \n",
    "    if h['PRINTING']:\n",
    "        ax.plot3D(x_pts, y_pts, z_pts, **fmt)\n",
    "plt.show()"
   ]
  },
  {
   "cell_type": "code",
   "execution_count": null,
   "metadata": {},
   "outputs": [],
   "source": []
  }
 ],
 "metadata": {
  "kernelspec": {
   "display_name": "smi_analysis_v2",
   "language": "python",
   "name": "smi_analysis_v2"
  },
  "language_info": {
   "codemirror_mode": {
    "name": "ipython",
    "version": 3
   },
   "file_extension": ".py",
   "mimetype": "text/x-python",
   "name": "python",
   "nbconvert_exporter": "python",
   "pygments_lexer": "ipython3",
   "version": "3.7.12"
  }
 },
 "nbformat": 4,
 "nbformat_minor": 4
}
